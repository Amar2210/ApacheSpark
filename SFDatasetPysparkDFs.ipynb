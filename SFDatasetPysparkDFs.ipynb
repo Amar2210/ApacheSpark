{
 "cells": [
  {
   "cell_type": "code",
   "execution_count": 0,
   "metadata": {
    "application/vnd.databricks.v1+cell": {
     "cellMetadata": {
      "byteLimit": 2048000,
      "rowLimit": 10000
     },
     "inputWidgets": {},
     "nuid": "0ebf625a-2879-45de-b789-9813fda42f57",
     "showTitle": false,
     "tableResultSettingsMap": {},
     "title": ""
    }
   },
   "outputs": [],
   "source": [
    "from pyspark.sql.functions import *"
   ]
  },
  {
   "cell_type": "code",
   "execution_count": 0,
   "metadata": {
    "application/vnd.databricks.v1+cell": {
     "cellMetadata": {
      "byteLimit": 2048000,
      "rowLimit": 10000
     },
     "inputWidgets": {},
     "nuid": "2bb87781-ac00-4cab-b321-ee662d78c2e8",
     "showTitle": false,
     "tableResultSettingsMap": {},
     "title": ""
    }
   },
   "outputs": [],
   "source": [
    "raw_df = spark.read.format(\"csv\") \\\n",
    "        .option(\"header\",\"true\") \\\n",
    "        .option(\"inferSchema\",\"true\") \\\n",
    "        .load(\"/databricks-datasets/learning-spark-v2/sf-fire/sf-fire-calls.csv\")"
   ]
  },
  {
   "cell_type": "code",
   "execution_count": 0,
   "metadata": {
    "application/vnd.databricks.v1+cell": {
     "cellMetadata": {
      "byteLimit": 2048000,
      "rowLimit": 10000
     },
     "inputWidgets": {},
     "nuid": "39095e5e-bf46-43a7-b011-9955daf8ec37",
     "showTitle": false,
     "tableResultSettingsMap": {},
     "title": ""
    }
   },
   "outputs": [],
   "source": [
    "# raw_df.show(1)\n",
    "display(raw_df.limit(10))"
   ]
  },
  {
   "cell_type": "code",
   "execution_count": 0,
   "metadata": {
    "application/vnd.databricks.v1+cell": {
     "cellMetadata": {
      "byteLimit": 2048000,
      "rowLimit": 10000
     },
     "inputWidgets": {},
     "nuid": "27488d53-8ea3-4e55-9b8e-7479d3d09a89",
     "showTitle": false,
     "tableResultSettingsMap": {},
     "title": ""
    }
   },
   "outputs": [],
   "source": [
    "# We can see the column names have spaces inbetween them and these are not std notations hence we need to rectify it first\n",
    "renamed_raw_df = raw_df \\\n",
    "    .withColumnRenamed(\"Call Number\",\"CallNumber\") \\\n",
    "    .withColumnRenamed(\"Unit ID\",\"UnitID\") \\\n",
    "    .withColumnRenamed(\"Incident Number\",\"IncidentNumber\") \\\n",
    "    .withColumnRenamed(\"call Date\",\"CallDate\") \\\n",
    "    .withColumnRenamed(\"Watch Date\",\"WatchDate\") \\\n",
    "    .withColumnRenamed(\"Call Final Disposition\",\"CallFinalDisposition\") \\\n",
    "    .withColumnRenamed(\"Available DtTm\",\"AvailableDtTm\") \\\n",
    "    .withColumnRenamed(\"Zipcode of Incident\",\"ZipcodeofIncident\") \\\n",
    "    .withColumnRenamed(\"Station Area\",\"StationArea\") \\\n",
    "    .withColumnRenamed(\"Final Priority\",\"FinalPriority\") \\\n",
    "    .withColumnRenamed(\"ALS Unit\",\"ALSUnit\") \\\n",
    "    .withColumnRenamed(\"Call Type Group\",\"CallTypeGroup\") \\\n",
    "    .withColumnRenamed(\"Unit sequence in call dispatch\",\"UnitSequenceInCallDispatch\") \\\n",
    "    .withColumnRenamed(\"Fire Prevention District\",\"FirePreventionDistrict\") \\\n",
    "    .withColumnRenamed(\"Supervisor District\",\"SupervisorDistrict\")\n",
    "\n",
    "display(renamed_raw_df.limit(10))"
   ]
  },
  {
   "cell_type": "code",
   "execution_count": 0,
   "metadata": {
    "application/vnd.databricks.v1+cell": {
     "cellMetadata": {
      "byteLimit": 2048000,
      "rowLimit": 10000
     },
     "inputWidgets": {},
     "nuid": "3cf2d77e-6880-44b4-8a3a-3f3b7e829f4e",
     "showTitle": false,
     "tableResultSettingsMap": {},
     "title": ""
    }
   },
   "outputs": [],
   "source": [
    "renamed_raw_df.printSchema()"
   ]
  },
  {
   "cell_type": "code",
   "execution_count": 0,
   "metadata": {
    "application/vnd.databricks.v1+cell": {
     "cellMetadata": {
      "byteLimit": 2048000,
      "rowLimit": 10000
     },
     "inputWidgets": {},
     "nuid": "9ee01778-3238-48c1-8f6b-2e3e2f335928",
     "showTitle": false,
     "tableResultSettingsMap": {},
     "title": ""
    }
   },
   "outputs": [],
   "source": [
    "fire_df = renamed_raw_df \\\n",
    "    .withColumn(\"CallDate\", to_date(\"CallDate\",\"MM/dd/yyyy\")) \\\n",
    "    .withColumn(\"WatchDate\", to_date(\"WatchDate\",\"MM/dd/yyyy\")) \\\n",
    "    .withColumn(\"AvailableDtTm\", to_timestamp(\"AvailableDtTm\",\"MM/dd/yyyy hh:mm:ss a\"))  \\\n",
    "    .withColumn(\"Delay\", round(\"Delay\",2))\n",
    "    # a is used in AvalilabeDtTm to mark AM PM, without which it will assume a 24 hour timeline, since we have AM PM in our data we need this"
   ]
  },
  {
   "cell_type": "code",
   "execution_count": 0,
   "metadata": {
    "application/vnd.databricks.v1+cell": {
     "cellMetadata": {
      "byteLimit": 2048000,
      "rowLimit": 10000
     },
     "inputWidgets": {},
     "nuid": "5d28c356-edfd-4c70-a75b-77152bbc543b",
     "showTitle": false,
     "tableResultSettingsMap": {},
     "title": ""
    }
   },
   "outputs": [],
   "source": [
    "display(fire_df.limit(10))"
   ]
  },
  {
   "cell_type": "code",
   "execution_count": 0,
   "metadata": {
    "application/vnd.databricks.v1+cell": {
     "cellMetadata": {
      "byteLimit": 2048000,
      "rowLimit": 10000
     },
     "inputWidgets": {},
     "nuid": "e04d0555-2977-4232-910e-f8fbc5f92e2e",
     "showTitle": false,
     "tableResultSettingsMap": {},
     "title": ""
    }
   },
   "outputs": [],
   "source": [
    "fire_df.printSchema()"
   ]
  },
  {
   "cell_type": "code",
   "execution_count": 0,
   "metadata": {
    "application/vnd.databricks.v1+cell": {
     "cellMetadata": {
      "byteLimit": 2048000,
      "rowLimit": 10000
     },
     "inputWidgets": {},
     "nuid": "2d53518d-0624-4374-a0b3-c9e1d38c4a79",
     "showTitle": false,
     "tableResultSettingsMap": {},
     "title": ""
    }
   },
   "outputs": [],
   "source": [
    "# Q1 How many distinct types of calls were made to the department\n",
    "# sql method --> first we need to create a temp view and then run the sql query\n",
    "fire_df.createOrReplaceTempView(\"fire_view\")\n",
    "q1_sql_df = spark.sql(\n",
    "    \"\"\"\n",
    "    SELECT COUNT(DISTINCT CallType) as dist_call_type\n",
    "    FROM fire_view \"\"\"\n",
    ")\n",
    "display(q1_sql_df)"
   ]
  },
  {
   "cell_type": "code",
   "execution_count": 0,
   "metadata": {
    "application/vnd.databricks.v1+cell": {
     "cellMetadata": {
      "byteLimit": 2048000,
      "rowLimit": 10000
     },
     "inputWidgets": {},
     "nuid": "9d8e34b3-f793-4c5d-b788-703a0bb661a8",
     "showTitle": false,
     "tableResultSettingsMap": {},
     "title": ""
    }
   },
   "outputs": [],
   "source": [
    "# Q1 How many distinct types of calls were made to the department\n",
    "# DataFrame method\n",
    "q1_df = fire_df.where(\"CallType is not null\") \\\n",
    "    .select(\"CallType\") \\\n",
    "    .distinct()\n",
    "print(q1_df.count())"
   ]
  },
  {
   "cell_type": "code",
   "execution_count": 0,
   "metadata": {
    "application/vnd.databricks.v1+cell": {
     "cellMetadata": {
      "byteLimit": 2048000,
      "rowLimit": 10000
     },
     "inputWidgets": {},
     "nuid": "271dd2ef-730b-4aa2-a9d6-b27fb14e72ca",
     "showTitle": false,
     "tableResultSettingsMap": {},
     "title": ""
    }
   },
   "outputs": [],
   "source": [
    "# Q2 - What were the distinct types of calls made to the department\n",
    "q2_df = fire_df.where(\"CallType is not null\") \\\n",
    "    .select(expr(\"CallType as distinct_calltype\")) \\\n",
    "    .distinct()\n",
    "display(q2_df)"
   ]
  },
  {
   "cell_type": "code",
   "execution_count": 0,
   "metadata": {
    "application/vnd.databricks.v1+cell": {
     "cellMetadata": {
      "byteLimit": 2048000,
      "rowLimit": 10000
     },
     "inputWidgets": {},
     "nuid": "9a16229c-c7fd-4f82-9311-472eb59e22c9",
     "showTitle": false,
     "tableResultSettingsMap": {},
     "title": ""
    }
   },
   "outputs": [],
   "source": [
    "# Q3 Find out all responses for delayed time greater than 5 minutes\n",
    "q3_df = fire_df.where(\"Delay > 5\") \\\n",
    "    .select(\"CallType\", \"Delay\")\n",
    "# display(q3_df.limit(10))\n",
    "display(q3_df)\n"
   ]
  },
  {
   "cell_type": "code",
   "execution_count": 0,
   "metadata": {
    "application/vnd.databricks.v1+cell": {
     "cellMetadata": {
      "byteLimit": 2048000,
      "rowLimit": 10000
     },
     "inputWidgets": {},
     "nuid": "ab116618-e0fd-43fd-b427-7cba61903ec5",
     "showTitle": false,
     "tableResultSettingsMap": {},
     "title": ""
    }
   },
   "outputs": [],
   "source": [
    "# Q4 What were the most common call types\n",
    "# We have started with select instead of where; We have a groupBy and a count and count is an action\n",
    "# Count method returns the number of rows in the DataFrame hence it is an action, a transformation always returns a DF\n",
    "# groupBy groups the DataFrame using specified column so we can run aggregation on them; groupBy returns a GroupedData object; so we have a count method for grouped data which counts the no of records for each group\n",
    "# Since count is used after the groupby it is a transformation\n",
    "# DF.count() --> Action\n",
    "# GroupedData.count() --> Transformation\n",
    "q4_df = fire_df.select(\"CallType\") \\\n",
    "    .where(\"CallType is not Null\") \\\n",
    "    .groupBy(\"CallType\") \\\n",
    "    .count()\\\n",
    "    .orderBy(\"count\",ascending=False) \\\n",
    "    .show()"
   ]
  },
  {
   "cell_type": "code",
   "execution_count": 0,
   "metadata": {
    "application/vnd.databricks.v1+cell": {
     "cellMetadata": {
      "byteLimit": 2048000,
      "rowLimit": 10000
     },
     "inputWidgets": {},
     "nuid": "585d9c17-3bdc-4719-b5af-686ec1c006f7",
     "showTitle": false,
     "tableResultSettingsMap": {},
     "title": ""
    }
   },
   "outputs": [],
   "source": [
    "# Q5 What zip code accounted for most calls?\n",
    "q5_df = fire_df.select(\"CallType\",\"ZipcodeofIncident\")\\\n",
    "    .groupBy(\"ZipcodeofIncident\")\\\n",
    "    .count()\\\n",
    "    .orderBy(\"count\",ascending = False)\n",
    "\n",
    "display(q5_df)\n"
   ]
  },
  {
   "cell_type": "code",
   "execution_count": 0,
   "metadata": {
    "application/vnd.databricks.v1+cell": {
     "cellMetadata": {
      "byteLimit": 2048000,
      "rowLimit": 10000
     },
     "inputWidgets": {},
     "nuid": "0364c266-e7f8-4750-8ed1-279e04c09bce",
     "showTitle": false,
     "tableResultSettingsMap": {},
     "title": ""
    }
   },
   "outputs": [],
   "source": [
    "# Q6 What SF neighbhorhoods are in zip code 94102 and 94103?\n",
    "q6_df = fire_df.select(\"Neighborhood\", \"ZipcodeofIncident\")\\\n",
    "    .where(\"zipcodeofincident IN (94102, 94103)\")\n",
    "display(q6_df)\n"
   ]
  },
  {
   "cell_type": "code",
   "execution_count": 0,
   "metadata": {
    "application/vnd.databricks.v1+cell": {
     "cellMetadata": {
      "byteLimit": 2048000,
      "rowLimit": 10000
     },
     "inputWidgets": {},
     "nuid": "65741fef-7dcc-4aca-a182-8d2a72c3dde1",
     "showTitle": false,
     "tableResultSettingsMap": {},
     "title": ""
    }
   },
   "outputs": [],
   "source": [
    "# Q7 What was the sum of all call alarms, average, min and max of the call response time?\n",
    "q7_df = fire_df.agg(sum(\"NumAlarms\").alias(\"sumofCallAlarms\"),\n",
    "                    round(avg(\"Delay\"),2).alias(\"AvgDelay\"),\n",
    "                    round(min(\"Delay\"),2).alias(\"Mindelay\"),\n",
    "                    round(max(\"Delay\"),2).alias(\"MaxDelay\"))\n",
    "display(q7_df)\n"
   ]
  },
  {
   "cell_type": "code",
   "execution_count": 0,
   "metadata": {
    "application/vnd.databricks.v1+cell": {
     "cellMetadata": {
      "byteLimit": 2048000,
      "rowLimit": 10000
     },
     "inputWidgets": {},
     "nuid": "caaec113-8b71-457b-93f9-497c57a38e01",
     "showTitle": false,
     "tableResultSettingsMap": {
      "0": {
       "dataGridStateBlob": "{\"version\":1,\"tableState\":{\"columnPinning\":{\"left\":[\"#row_number#\"],\"right\":[]},\"columnSizing\":{},\"columnVisibility\":{}},\"settings\":{\"columns\":{}},\"syncTimestamp\":1759769785167}",
       "filterBlob": null,
       "queryPlanFiltersBlob": null,
       "tableResultIndex": 0
      }
     },
     "title": ""
    }
   },
   "outputs": [],
   "source": [
    "# Q8 How many distinct years of data is present in the dataset?\n",
    "\n",
    "df_with_year=fire_df.withColumn(\"CallYear\", year(\"callDate\"))\n",
    "q8_df = df_with_year.select(\"CallYear\").distinct()\n",
    "display(q8_df)\n",
    "\n"
   ]
  },
  {
   "cell_type": "code",
   "execution_count": 0,
   "metadata": {
    "application/vnd.databricks.v1+cell": {
     "cellMetadata": {
      "byteLimit": 2048000,
      "rowLimit": 10000
     },
     "inputWidgets": {},
     "nuid": "4fa0ba5a-0881-41e7-aae4-4980ad7fb48a",
     "showTitle": false,
     "tableResultSettingsMap": {},
     "title": ""
    }
   },
   "outputs": [],
   "source": [
    "# Q9 What week of the year 2018 had the most fire calls?\n",
    "q9_df = df_with_year.filter(df_with_year.CallYear == 2018)\\\n",
    "    .withColumn(\"WeekOfYear\", weekofyear(\"CallDate\"))\\\n",
    "    .groupBy(\"WeekOfYear\")\\\n",
    "        .agg(count(\"CallType\").alias(\"FireCallCount\"))\\\n",
    "        .orderBy(\"FireCallCount\",ascending=False)\n",
    "display(q9_df)"
   ]
  },
  {
   "cell_type": "code",
   "execution_count": 0,
   "metadata": {
    "application/vnd.databricks.v1+cell": {
     "cellMetadata": {
      "byteLimit": 2048000,
      "rowLimit": 10000
     },
     "inputWidgets": {},
     "nuid": "d22b682c-06ee-4a47-875a-7adf17f64537",
     "showTitle": false,
     "tableResultSettingsMap": {},
     "title": ""
    }
   },
   "outputs": [],
   "source": [
    "# Q10 What nighborhoods in SF had the worst response time in 2018?\n",
    "q10_df = df_with_year.filter(df_with_year.CallYear == 2018)\\\n",
    "    .select(\"Neighborhood\",\"Delay\")\\\n",
    "    .orderBy(\"Delay\",ascending=False)\n",
    "\n",
    "display(q10_df)"
   ]
  }
 ],
 "metadata": {
  "application/vnd.databricks.v1+notebook": {
   "computePreferences": null,
   "dashboards": [],
   "environmentMetadata": {
    "base_environment": "",
    "environment_version": "3"
   },
   "inputWidgetPreferences": null,
   "language": "python",
   "notebookMetadata": {
    "pythonIndentUnit": 4
   },
   "notebookName": "SFDatasetPysparkDFs",
   "widgets": {}
  },
  "language_info": {
   "name": "python"
  }
 },
 "nbformat": 4,
 "nbformat_minor": 0
}
